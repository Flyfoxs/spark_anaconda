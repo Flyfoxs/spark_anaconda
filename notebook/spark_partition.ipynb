{
 "cells": [
  {
   "cell_type": "code",
   "execution_count": 1,
   "id": "eaa069f1",
   "metadata": {},
   "outputs": [
    {
     "name": "stderr",
     "output_type": "stream",
     "text": [
      "Setting default log level to \"WARN\".\n",
      "To adjust logging level use sc.setLogLevel(newLevel). For SparkR, use setLogLevel(newLevel).\n"
     ]
    },
    {
     "name": "stdout",
     "output_type": "stream",
     "text": [
      "22/11/06 15:16:34 WARN NativeCodeLoader: Unable to load native-hadoop library for your platform... using builtin-java classes where applicable\n",
      "22/11/06 15:16:35 WARN Utils: Service 'SparkUI' could not bind on port 4040. Attempting port 4041.\n"
     ]
    }
   ],
   "source": [
    "from pyspark.sql.session import SparkSession\n",
    "\n",
    "from pyspark.sql import SparkSession\n",
    "from pyspark.sql import Row\n",
    "\n",
    "spark = SparkSession \\\n",
    "    .builder \\\n",
    "    .appName(\"Python Spark SQL Hive integration example\") \\\n",
    "    .enableHiveSupport() \\\n",
    "    .getOrCreate()\n",
    "# df = spark.read.option(\"header\", True).csv(\"/Users/FelixLi/SourceCode/python/functions/output/amex/data.csv\")\n",
    "# df.printSchema()\n",
    "\n"
   ]
  },
  {
   "cell_type": "code",
   "execution_count": null,
   "id": "6be10758",
   "metadata": {},
   "outputs": [],
   "source": [
    "!pip install more-itertools"
   ]
  },
  {
   "cell_type": "code",
   "execution_count": 2,
   "id": "c050aad9",
   "metadata": {},
   "outputs": [
    {
     "name": "stdout",
     "output_type": "stream",
     "text": [
      "22/11/06 15:16:40 WARN SessionState: METASTORE_FILTER_HOOK will be ignored, since hive.security.authorization.manager is set to instance of HiveAuthorizerFactory.\n"
     ]
    },
    {
     "name": "stderr",
     "output_type": "stream",
     "text": [
      "[Stage 0:======================================================>(377 + 1) / 378]\r"
     ]
    },
    {
     "name": "stdout",
     "output_type": "stream",
     "text": [
      "CPU times: user 188 ms, sys: 55.1 ms, total: 243 ms\n",
      "Wall time: 1min 54s\n"
     ]
    },
    {
     "name": "stderr",
     "output_type": "stream",
     "text": [
      "\r",
      "                                                                                \r"
     ]
    }
   ],
   "source": [
    "%%time\n",
    "table = spark.table(\"cs_amex.cs_amex_pageviews\")\n",
    "from more_itertools import take\n",
    "partition_list = []\n",
    "table.select('dt').foreachPartition(lambda rdd: partition_list.append(take(1,rdd)[0]['dt']))"
   ]
  },
  {
   "cell_type": "code",
   "execution_count": 5,
   "id": "208922ff",
   "metadata": {},
   "outputs": [
    {
     "ename": "ModuleNotFoundError",
     "evalue": "No module named 'CustomAccumulators'",
     "output_type": "error",
     "traceback": [
      "\u001b[0;31m---------------------------------------------------------------------------\u001b[0m",
      "\u001b[0;31mModuleNotFoundError\u001b[0m                       Traceback (most recent call last)",
      "Cell \u001b[0;32mIn [5], line 1\u001b[0m\n\u001b[0;32m----> 1\u001b[0m \u001b[38;5;28;01mimport\u001b[39;00m \u001b[38;5;21;01mCustomAccumulators\u001b[39;00m \u001b[38;5;28;01mas\u001b[39;00m \u001b[38;5;21;01mca\u001b[39;00m\n\u001b[1;32m      2\u001b[0m acc \u001b[38;5;241m=\u001b[39m spark\u001b[38;5;241m.\u001b[39msparkContext\u001b[38;5;241m.\u001b[39maccumulator(\u001b[38;5;28mdict\u001b[39m(), ca\u001b[38;5;241m.\u001b[39mDictAccumulator(ca\u001b[38;5;241m.\u001b[39mDictAccumulatorMethod\u001b[38;5;241m.\u001b[39mLIST))\n\u001b[1;32m      3\u001b[0m acc_manager \u001b[38;5;241m=\u001b[39m AccumulatorManager(acc)\n",
      "\u001b[0;31mModuleNotFoundError\u001b[0m: No module named 'CustomAccumulators'"
     ]
    }
   ],
   "source": [
    "import CustomAccumulators as ca\n",
    "acc = spark.sparkContext.accumulator(dict(), ca.DictAccumulator(ca.DictAccumulatorMethod.LIST))\n",
    "acc_manager = AccumulatorManager(acc)"
   ]
  },
  {
   "cell_type": "code",
   "execution_count": 7,
   "id": "fb3ff1b8",
   "metadata": {},
   "outputs": [],
   "source": [
    "from pyspark.accumulators import Accumulator"
   ]
  },
  {
   "cell_type": "code",
   "execution_count": null,
   "id": "c6c3fdd7",
   "metadata": {},
   "outputs": [],
   "source": [
    "table.foreachPartition(lambda rdd: print(rdd.select('dt').collect(1)))"
   ]
  },
  {
   "cell_type": "code",
   "execution_count": null,
   "id": "8e9191fe",
   "metadata": {},
   "outputs": [],
   "source": [
    "spark.sql( \"SHOW PARTITIONS table_tmp\")"
   ]
  },
  {
   "cell_type": "code",
   "execution_count": null,
   "id": "66892b58",
   "metadata": {},
   "outputs": [],
   "source": [
    "table"
   ]
  },
  {
   "cell_type": "code",
   "execution_count": null,
   "id": "eaaf5095",
   "metadata": {},
   "outputs": [],
   "source": [
    "%%time\n",
    "table.select('view_number').filter('dt = \"20220701\" ').count()"
   ]
  },
  {
   "cell_type": "code",
   "execution_count": null,
   "id": "1f86b31e",
   "metadata": {},
   "outputs": [],
   "source": [
    "%%time\n",
    "spark.sql(\"select view_number from cs_amex.cs_amex_pageviews where dt='20220701'\").count()\n",
    " "
   ]
  },
  {
   "cell_type": "code",
   "execution_count": null,
   "id": "265673de",
   "metadata": {},
   "outputs": [],
   "source": [
    "%%time\n",
    "spark.sql(\"select view_number from cs_amex.cs_amex_pageviews\").filter('dt = \"20220701\" ').count()"
   ]
  },
  {
   "cell_type": "code",
   "execution_count": null,
   "id": "6c301299",
   "metadata": {},
   "outputs": [],
   "source": [
    "%%time\n",
    "table.select(\"dt\").distinct().toPandas()"
   ]
  },
  {
   "cell_type": "code",
   "execution_count": null,
   "id": "0057836e",
   "metadata": {},
   "outputs": [],
   "source": [
    "table.select('dt').filter('dt = \"20220701\" ').explain(extended=True)"
   ]
  }
 ],
 "metadata": {
  "kernelspec": {
   "display_name": "Python 3 (ipykernel)",
   "language": "python",
   "name": "python3"
  },
  "language_info": {
   "codemirror_mode": {
    "name": "ipython",
    "version": 3
   },
   "file_extension": ".py",
   "mimetype": "text/x-python",
   "name": "python",
   "nbconvert_exporter": "python",
   "pygments_lexer": "ipython3",
   "version": "3.9.13"
  }
 },
 "nbformat": 4,
 "nbformat_minor": 5
}
